{
 "cells": [
  {
   "cell_type": "code",
   "execution_count": 1,
   "metadata": {},
   "outputs": [],
   "source": [
    "import numpy as np\n",
    "import numpy.random as npr\n",
    "import matplotlib.pyplot as plt"
   ]
  },
  {
   "cell_type": "code",
   "execution_count": 2,
   "metadata": {},
   "outputs": [],
   "source": [
    "data = [1,2,3,4]"
   ]
  },
  {
   "cell_type": "code",
   "execution_count": 3,
   "metadata": {},
   "outputs": [
    {
     "data": {
      "text/plain": [
       "array([1, 2, 3, 4])"
      ]
     },
     "execution_count": 3,
     "metadata": {},
     "output_type": "execute_result"
    }
   ],
   "source": [
    "#创建一个nparray\n",
    "arr = np.array(data)\n",
    "arr"
   ]
  },
  {
   "cell_type": "code",
   "execution_count": 4,
   "metadata": {},
   "outputs": [
    {
     "data": {
      "text/plain": [
       "[[1, 2, 3, 4], [1, 2, 3, 4]]"
      ]
     },
     "execution_count": 4,
     "metadata": {},
     "output_type": "execute_result"
    }
   ],
   "source": [
    "data1 = [data,data]\n",
    "data1"
   ]
  },
  {
   "cell_type": "code",
   "execution_count": 5,
   "metadata": {},
   "outputs": [
    {
     "data": {
      "text/plain": [
       "array([[1, 2, 3, 4],\n",
       "       [1, 2, 3, 4]])"
      ]
     },
     "execution_count": 5,
     "metadata": {},
     "output_type": "execute_result"
    }
   ],
   "source": [
    "#等长列表会自动转为多维数组，行\n",
    "arr1 = np.array(data1)\n",
    "arr1"
   ]
  },
  {
   "cell_type": "code",
   "execution_count": 6,
   "metadata": {},
   "outputs": [
    {
     "data": {
      "text/plain": [
       "array([[0., 0., 0., 0.],\n",
       "       [0., 0., 0., 0.],\n",
       "       [0., 0., 0., 0.]])"
      ]
     },
     "execution_count": 6,
     "metadata": {},
     "output_type": "execute_result"
    }
   ],
   "source": [
    "#创建全0数组\n",
    "np.zeros((3,4))"
   ]
  },
  {
   "cell_type": "code",
   "execution_count": 7,
   "metadata": {},
   "outputs": [
    {
     "data": {
      "text/plain": [
       "array([[1., 1., 1.],\n",
       "       [1., 1., 1.]])"
      ]
     },
     "execution_count": 7,
     "metadata": {},
     "output_type": "execute_result"
    }
   ],
   "source": [
    "#创建全1数组\n",
    "np.ones((2,3))"
   ]
  },
  {
   "cell_type": "code",
   "execution_count": 8,
   "metadata": {},
   "outputs": [
    {
     "data": {
      "text/plain": [
       "array([1, 3, 5, 7, 9])"
      ]
     },
     "execution_count": 8,
     "metadata": {},
     "output_type": "execute_result"
    }
   ],
   "source": [
    "#创建等差数列\n",
    "np.arange(1,10,2)"
   ]
  },
  {
   "cell_type": "code",
   "execution_count": 9,
   "metadata": {},
   "outputs": [
    {
     "data": {
      "text/plain": [
       "array([ 1.        ,  4.33333333,  7.66666667, 11.        ])"
      ]
     },
     "execution_count": 9,
     "metadata": {},
     "output_type": "execute_result"
    }
   ],
   "source": [
    "#创建在一个范围内某长度的数列,两端为端点\n",
    "np.linspace(1,11,4)"
   ]
  },
  {
   "cell_type": "code",
   "execution_count": 10,
   "metadata": {},
   "outputs": [],
   "source": [
    "#dtype代表ndarray中元素的类型，普遍拥有的类型有float, int, bool, sring等等\n",
    "arr2 = np.array([1,2,3,4])"
   ]
  },
  {
   "cell_type": "code",
   "execution_count": 11,
   "metadata": {},
   "outputs": [
    {
     "data": {
      "text/plain": [
       "dtype('int64')"
      ]
     },
     "execution_count": 11,
     "metadata": {},
     "output_type": "execute_result"
    }
   ],
   "source": [
    "arr.dtype"
   ]
  },
  {
   "cell_type": "code",
   "execution_count": 12,
   "metadata": {},
   "outputs": [],
   "source": [
    "#不同数据类型之间的转换 .astype\n",
    "#\n",
    "float_arr2 = arr2.astype(np.float64)"
   ]
  },
  {
   "cell_type": "code",
   "execution_count": 13,
   "metadata": {},
   "outputs": [
    {
     "data": {
      "text/plain": [
       "array([1., 2., 3., 4.])"
      ]
     },
     "execution_count": 13,
     "metadata": {},
     "output_type": "execute_result"
    }
   ],
   "source": [
    "float_arr2"
   ]
  },
  {
   "cell_type": "code",
   "execution_count": 14,
   "metadata": {},
   "outputs": [
    {
     "data": {
      "text/plain": [
       "array([[1, 2, 3],\n",
       "       [4, 5, 6],\n",
       "       [7, 8, 9]])"
      ]
     },
     "execution_count": 14,
     "metadata": {},
     "output_type": "execute_result"
    }
   ],
   "source": [
    "#nparray 的切片, 不同于Python原本的是其可以拓展到多维数据切片\n",
    "arr4 = np.array([[1,2,3],[4,5,6],[7,8,9]])\n",
    "arr4"
   ]
  },
  {
   "cell_type": "code",
   "execution_count": 15,
   "metadata": {},
   "outputs": [
    {
     "data": {
      "text/plain": [
       "array([[100, 100,   3],\n",
       "       [100, 100,   6],\n",
       "       [  7,   8,   9]])"
      ]
     },
     "execution_count": 15,
     "metadata": {},
     "output_type": "execute_result"
    }
   ],
   "source": [
    "#python的切片原则，对于[p:q]，从p位置开始到q位置结束，但是不包括q\n",
    "#而且还可以对切片进行赋值\n",
    "arr4[:2]\n",
    "arr4[:2,:2]\n",
    "arr4[:2,:2] = 100\n",
    "arr4"
   ]
  },
  {
   "cell_type": "code",
   "execution_count": 16,
   "metadata": {},
   "outputs": [
    {
     "data": {
      "text/plain": [
       "array([[10.        , 10.        ,  1.73205081],\n",
       "       [10.        , 10.        ,  2.44948974],\n",
       "       [ 2.64575131,  2.82842712,  3.        ]])"
      ]
     },
     "execution_count": 16,
     "metadata": {},
     "output_type": "execute_result"
    }
   ],
   "source": [
    "#Numpy大部分由C语言完成，速度以及优化俱佳，可以直接进行数学运算\n",
    "#同时其中还有sum, max, mean, std等函数便于直接计算\n",
    "arr4*2\n",
    "arr4**0.5"
   ]
  },
  {
   "cell_type": "code",
   "execution_count": 17,
   "metadata": {},
   "outputs": [
    {
     "data": {
      "text/plain": [
       "array([[20021, 20024,   927],\n",
       "       [20042, 20048,   954],\n",
       "       [ 1563,  1572,   150]])"
      ]
     },
     "execution_count": 17,
     "metadata": {},
     "output_type": "execute_result"
    }
   ],
   "source": [
    "#numpy中内积的计算为np.dot\n",
    "np.dot(arr4,arr4)"
   ]
  },
  {
   "cell_type": "code",
   "execution_count": 18,
   "metadata": {},
   "outputs": [],
   "source": [
    "#负责生成伪随机数的子库是numpy.random\n",
    "#常用是可视化包为matplotlib.pyplot\n",
    "import numpy.random as npr\n",
    "import matplotlib.pyplot as plt"
   ]
  },
  {
   "cell_type": "code",
   "execution_count": 19,
   "metadata": {},
   "outputs": [
    {
     "data": {
      "text/plain": [
       "array([[0.28430056, 0.41350088, 0.83606716, 0.86705226],\n",
       "       [0.39718187, 0.64780127, 0.5566446 , 0.40878745],\n",
       "       [0.76814662, 0.87060693, 0.32336601, 0.61964339]])"
      ]
     },
     "execution_count": 19,
     "metadata": {},
     "output_type": "execute_result"
    }
   ],
   "source": [
    "#npr.rand用来生成[0,1)的随机数，并且可以是多维的随机数\n",
    "npr.rand(3,4)"
   ]
  },
  {
   "cell_type": "code",
   "execution_count": 20,
   "metadata": {},
   "outputs": [
    {
     "data": {
      "text/plain": [
       "array([[26.79371131, 14.15836926],\n",
       "       [70.44244826, 39.87135362],\n",
       "       [47.76894466, 36.00318279]])"
      ]
     },
     "execution_count": 20,
     "metadata": {},
     "output_type": "execute_result"
    }
   ],
   "source": [
    "#当然可以用以下办法进行随机区间的转化，例如\n",
    "a = 1\n",
    "b = 100\n",
    "npr.rand(3,2)*(b-a)+a"
   ]
  },
  {
   "cell_type": "code",
   "execution_count": 21,
   "metadata": {},
   "outputs": [
    {
     "data": {
      "text/plain": [
       "array([[  7,   8,   9],\n",
       "       [100, 100,   3],\n",
       "       [100, 100,   6]])"
      ]
     },
     "execution_count": 21,
     "metadata": {},
     "output_type": "execute_result"
    }
   ],
   "source": [
    "#npr.rand(p,q) 生成随机浮点数，\n",
    "#npr.randint(范围,size = 矩阵) 生成范围内的随机整数\n",
    "#npr.normal(loc = 均值, scale = 标准差, size = 矩阵大小)，生成高斯分布随机数\n",
    "#npr.randn(p,q)生成p，q矩阵，标准正态分布随机数\n",
    "#npr.shuffle(x)将序列x随机打乱\n",
    "#更多见 p165\n",
    "npr.shuffle(arr4)\n",
    "arr4"
   ]
  },
  {
   "cell_type": "code",
   "execution_count": 22,
   "metadata": {},
   "outputs": [
    {
     "data": {
      "text/plain": [
       "array([[ 0,  1,  2,  3,  4],\n",
       "       [ 5,  6,  7,  8,  9],\n",
       "       [10, 11, 12, 13, 14]])"
      ]
     },
     "execution_count": 22,
     "metadata": {},
     "output_type": "execute_result"
    }
   ],
   "source": [
    "#数组转置以及轴兑换\n",
    "arr = np.arange(15).reshape(3,5) #另外一种构建数据的方法\n",
    "arr"
   ]
  },
  {
   "cell_type": "code",
   "execution_count": 23,
   "metadata": {},
   "outputs": [
    {
     "data": {
      "text/plain": [
       "array([[ 0,  5, 10],\n",
       "       [ 1,  6, 11],\n",
       "       [ 2,  7, 12],\n",
       "       [ 3,  8, 13],\n",
       "       [ 4,  9, 14]])"
      ]
     },
     "execution_count": 23,
     "metadata": {},
     "output_type": "execute_result"
    }
   ],
   "source": [
    "#矩阵转置\n",
    "arr.T"
   ]
  },
  {
   "cell_type": "code",
   "execution_count": 42,
   "metadata": {},
   "outputs": [
    {
     "data": {
      "text/plain": [
       "array([[-47, -42, -37, -32, -27, -22, -17, -12,  -7,  -2,   3,   8,  13,\n",
       "         18,  23,  28,  33,  38,  43,  48],\n",
       "       [-47, -42, -37, -32, -27, -22, -17, -12,  -7,  -2,   3,   8,  13,\n",
       "         18,  23,  28,  33,  38,  43,  48],\n",
       "       [-47, -42, -37, -32, -27, -22, -17, -12,  -7,  -2,   3,   8,  13,\n",
       "         18,  23,  28,  33,  38,  43,  48],\n",
       "       [-47, -42, -37, -32, -27, -22, -17, -12,  -7,  -2,   3,   8,  13,\n",
       "         18,  23,  28,  33,  38,  43,  48],\n",
       "       [-47, -42, -37, -32, -27, -22, -17, -12,  -7,  -2,   3,   8,  13,\n",
       "         18,  23,  28,  33,  38,  43,  48],\n",
       "       [-47, -42, -37, -32, -27, -22, -17, -12,  -7,  -2,   3,   8,  13,\n",
       "         18,  23,  28,  33,  38,  43,  48],\n",
       "       [-47, -42, -37, -32, -27, -22, -17, -12,  -7,  -2,   3,   8,  13,\n",
       "         18,  23,  28,  33,  38,  43,  48],\n",
       "       [-47, -42, -37, -32, -27, -22, -17, -12,  -7,  -2,   3,   8,  13,\n",
       "         18,  23,  28,  33,  38,  43,  48],\n",
       "       [-47, -42, -37, -32, -27, -22, -17, -12,  -7,  -2,   3,   8,  13,\n",
       "         18,  23,  28,  33,  38,  43,  48],\n",
       "       [-47, -42, -37, -32, -27, -22, -17, -12,  -7,  -2,   3,   8,  13,\n",
       "         18,  23,  28,  33,  38,  43,  48],\n",
       "       [-47, -42, -37, -32, -27, -22, -17, -12,  -7,  -2,   3,   8,  13,\n",
       "         18,  23,  28,  33,  38,  43,  48],\n",
       "       [-47, -42, -37, -32, -27, -22, -17, -12,  -7,  -2,   3,   8,  13,\n",
       "         18,  23,  28,  33,  38,  43,  48],\n",
       "       [-47, -42, -37, -32, -27, -22, -17, -12,  -7,  -2,   3,   8,  13,\n",
       "         18,  23,  28,  33,  38,  43,  48],\n",
       "       [-47, -42, -37, -32, -27, -22, -17, -12,  -7,  -2,   3,   8,  13,\n",
       "         18,  23,  28,  33,  38,  43,  48],\n",
       "       [-47, -42, -37, -32, -27, -22, -17, -12,  -7,  -2,   3,   8,  13,\n",
       "         18,  23,  28,  33,  38,  43,  48],\n",
       "       [-47, -42, -37, -32, -27, -22, -17, -12,  -7,  -2,   3,   8,  13,\n",
       "         18,  23,  28,  33,  38,  43,  48],\n",
       "       [-47, -42, -37, -32, -27, -22, -17, -12,  -7,  -2,   3,   8,  13,\n",
       "         18,  23,  28,  33,  38,  43,  48],\n",
       "       [-47, -42, -37, -32, -27, -22, -17, -12,  -7,  -2,   3,   8,  13,\n",
       "         18,  23,  28,  33,  38,  43,  48],\n",
       "       [-47, -42, -37, -32, -27, -22, -17, -12,  -7,  -2,   3,   8,  13,\n",
       "         18,  23,  28,  33,  38,  43,  48],\n",
       "       [-47, -42, -37, -32, -27, -22, -17, -12,  -7,  -2,   3,   8,  13,\n",
       "         18,  23,  28,  33,  38,  43,  48]])"
      ]
     },
     "execution_count": 42,
     "metadata": {},
     "output_type": "execute_result"
    }
   ],
   "source": [
    "######numpy的数组处理能力\n",
    "points = np.arange(-50,50,5)\n",
    "xs,ys = np.meshgrid(points+3,points)\n",
    "#可以想象成.meshgrid描绘了一个坐标的网格点，xs，ys分别代表每个点的横纵坐标\n",
    "xs"
   ]
  },
  {
   "cell_type": "code",
   "execution_count": 43,
   "metadata": {},
   "outputs": [
    {
     "data": {
      "image/png": "[encoded data removed]",
      "text/plain": [
       "<Figure size 432x288 with 1 Axes>"
      ]
     },
     "metadata": {
      "needs_background": "light"
     },
     "output_type": "display_data"
    }
   ],
   "source": [
    "#即如下图\n",
    "plt.plot(xs,ys,\n",
    "        color = 'green',\n",
    "        marker = '.',\n",
    "        linestyle = '')\n",
    "plt.grid(True)\n",
    "plt.show()"
   ]
  },
  {
   "cell_type": "code",
   "execution_count": 26,
   "metadata": {},
   "outputs": [
    {
     "data": {
      "text/plain": [
       "<matplotlib.colorbar.Colorbar at 0x11a3312b0>"
      ]
     },
     "execution_count": 26,
     "metadata": {},
     "output_type": "execute_result"
    },
    {
     "data": {
      "image/png": "[encoded data removed]",
      "text/plain": [
       "<Figure size 432x288 with 2 Axes>"
      ]
     },
     "metadata": {
      "needs_background": "light"
     },
     "output_type": "display_data"
    }
   ],
   "source": [
    "z = np.sqrt(xs**2+ys**2)\n",
    "plt.imshow(z, cmap = plt.cm.gray)\n",
    "plt.colorbar()"
   ]
  },
  {
   "cell_type": "code",
   "execution_count": 27,
   "metadata": {},
   "outputs": [
    {
     "data": {
      "text/plain": [
       "array([[     0,      0,      0,      0,      0],\n",
       "       [     5,     30,    210,   1680,  15120],\n",
       "       [    10,    110,   1320,  17160, 240240]])"
      ]
     },
     "execution_count": 27,
     "metadata": {},
     "output_type": "execute_result"
    }
   ],
   "source": [
    "arr.cumsum()#积累和\n",
    "arr.mean()\n",
    "np.mean(arr) #都可以用来计算均值\n",
    "arr.mean(axis = 1)#计算行平均值\n",
    "arr.sum(axis = 0)#计算列和\n",
    "arr.cumprod(axis = 1) #计算累计积，cumsum同此理"
   ]
  },
  {
   "cell_type": "code",
   "execution_count": 28,
   "metadata": {},
   "outputs": [
    {
     "data": {
      "text/plain": [
       "array([-0.53495793, -0.05357812, -0.16692461, -0.19955805,  1.92560771,\n",
       "       -1.52442603])"
      ]
     },
     "execution_count": 28,
     "metadata": {},
     "output_type": "execute_result"
    }
   ],
   "source": [
    "#####numpy 排序\n",
    "arr = npr.randn(6)\n",
    "arr"
   ]
  },
  {
   "cell_type": "code",
   "execution_count": 29,
   "metadata": {},
   "outputs": [
    {
     "data": {
      "text/plain": [
       "array([[4, 3, 2],\n",
       "       [2, 1, 4]])"
      ]
     },
     "execution_count": 29,
     "metadata": {},
     "output_type": "execute_result"
    }
   ],
   "source": [
    "arr.sort()\n",
    "arr\n",
    "# 对于 numpy.sort(a, axis=1, kind='quicksort', order=None)\n",
    "#a ：所需排序的数组 \n",
    "#axis：数组排序时的基准，axis=0，按行排列；axis=1，按列排列 \n",
    "#kindkind：数组排序时使用的方法，其中： \n",
    "#       kind=′quicksort′为快排；kind=′mergesort′为混排；\n",
    "#       kind=′heapsort′为堆排； \n",
    "#order：一个字符串或列表，可以设置按照某个属性进行排序\n",
    "\n",
    "########## 举 例 1 ##########\n",
    "list1 = [[4,3,2],[2,1,4]]\n",
    "array=np.array(list1) \n",
    "array"
   ]
  },
  {
   "cell_type": "code",
   "execution_count": 30,
   "metadata": {},
   "outputs": [
    {
     "data": {
      "text/plain": [
       "array([[2, 3, 4],\n",
       "       [1, 2, 4]])"
      ]
     },
     "execution_count": 30,
     "metadata": {},
     "output_type": "execute_result"
    }
   ],
   "source": [
    "array.sort(axis=1)   \n",
    "array"
   ]
  },
  {
   "cell_type": "code",
   "execution_count": 31,
   "metadata": {},
   "outputs": [
    {
     "data": {
      "text/plain": [
       "array([[1, 2, 4],\n",
       "       [2, 3, 4]])"
      ]
     },
     "execution_count": 31,
     "metadata": {},
     "output_type": "execute_result"
    }
   ],
   "source": [
    "# axis=1,说明是按照列进行排序，也就是说，每一行上的元素沿着列的方向实现了递增，\n",
    "# 如[4, 3, 2]变为了[2, 3, 4]，[2, 1, 4]变为了[1, 2, 4]\n",
    "array.sort(axis=0)\n",
    "array"
   ]
  },
  {
   "cell_type": "code",
   "execution_count": 32,
   "metadata": {},
   "outputs": [
    {
     "data": {
      "text/plain": [
       "array([1, 2, 2, 3, 4, 4])"
      ]
     },
     "execution_count": 32,
     "metadata": {},
     "output_type": "execute_result"
    }
   ],
   "source": [
    "# axis=0,说明是按照行进行排序，也就是说，每一列上的元素沿着行的方向实现了递增，\n",
    "# 如[2, 1]变为了[1, 2]，[3, 2]变为了[2, 3]\n",
    "np.sort(array, axis=None)\n",
    "\n",
    "# 当axis=None，将所有元素统一排序"
   ]
  },
  {
   "cell_type": "code",
   "execution_count": 33,
   "metadata": {},
   "outputs": [
    {
     "data": {
      "text/plain": [
       "array([(b'Li', 1.8, 41), (b'Wang', 1.9, 38), (b'Duan', 1.7, 38)],\n",
       "      dtype=[('Name', 'S10'), ('Height', '<f8'), ('Age', '<i8')])"
      ]
     },
     "execution_count": 33,
     "metadata": {},
     "output_type": "execute_result"
    }
   ],
   "source": [
    "dtype = [('Name', 'S10'), ('Height', float), ('Age', int)]\n",
    "values = [('Li', 1.8, 41), ('Wang', 1.9, 38),('Duan', 1.7, 38)]\n",
    "a = np.array(values, dtype=dtype)\n",
    "np.sort(a, order='Height')  \n",
    "a\n",
    "# 按照属性Height进行排序,此时参数为字符串                      "
   ]
  },
  {
   "cell_type": "code",
   "execution_count": 34,
   "metadata": {},
   "outputs": [
    {
     "data": {
      "text/plain": [
       "array([(b'Duan', 1.7, 38), (b'Wang', 1.9, 38), (b'Li', 1.8, 41)],\n",
       "      dtype=[('Name', 'S10'), ('Height', '<f8'), ('Age', '<i8')])"
      ]
     },
     "execution_count": 34,
     "metadata": {},
     "output_type": "execute_result"
    }
   ],
   "source": [
    "np.sort(a, order=['Age', 'Height']) \n",
    "# 先按照属性Age排序,如果Age相等，再按照Height排序，此时参数为列表 "
   ]
  },
  {
   "cell_type": "code",
   "execution_count": 35,
   "metadata": {},
   "outputs": [
    {
     "name": "stdout",
     "output_type": "stream",
     "text": [
      "1\n"
     ]
    }
   ],
   "source": [
    "###### Numpy 的线性代数运算\n",
    "#表格见p163\n",
    "if 0.6<1:\n",
    "    print('1')"
   ]
  },
  {
   "cell_type": "markdown",
   "metadata": {},
   "source": [
    "* numpy函数生成的数据可视化"
   ]
  },
  {
   "cell_type": "code",
   "execution_count": 36,
   "metadata": {},
   "outputs": [
    {
     "data": {
      "text/plain": [
       "array([[2.95121843, 2.40856835],\n",
       "       [2.74129926, 3.85604988],\n",
       "       [2.06689838, 2.17645184]])"
      ]
     },
     "execution_count": 36,
     "metadata": {},
     "output_type": "execute_result"
    }
   ],
   "source": [
    "#记住在numpy中的随机数生成范围是[)左闭右开的区间\n",
    "npr.rand(3,2)*2+2"
   ]
  },
  {
   "cell_type": "code",
   "execution_count": 37,
   "metadata": {},
   "outputs": [],
   "source": [
    "#接下来开始可视化\n",
    "size = 1000\n",
    "rn1 = npr.rand(size, 2)\n",
    "rn2 = npr.randn(size)\n",
    "rn3 = npr.randint(0,10,size)\n",
    "rang = [0, 10, 20, 30, 40]\n",
    "rn4 = npr.choice(rang, size = size)"
   ]
  },
  {
   "cell_type": "code",
   "execution_count": 38,
   "metadata": {},
   "outputs": [
    {
     "name": "stderr",
     "output_type": "stream",
     "text": [
      "/Users/wangyuzhe/anaconda3/lib/python3.7/site-packages/matplotlib/cbook/__init__.py:424: MatplotlibDeprecationWarning: \n",
      "Passing one of 'on', 'true', 'off', 'false' as a boolean is deprecated; use an actual boolean (True/False) instead.\n",
      "  warn_deprecated(\"2.2\", \"Passing one of 'on', 'true', 'off', 'false' as a \"\n"
     ]
    },
    {
     "data": {
      "image/png": "[encoded data removed]",
      "text/plain": [
       "<Figure size 720x720 with 4 Axes>"
      ]
     },
     "metadata": {
      "needs_background": "light"
     },
     "output_type": "display_data"
    }
   ],
   "source": [
    "fig, ((ax1,ax2),(ax3,ax4)) = plt.subplots(nrows = 2, ncols = 2,\n",
    "figsize = (10,10))\n",
    "ax1.hist(rn1, bins = 100, stacked = True)\n",
    "ax1.set_title('rand')\n",
    "ax1.set_ylabel('frequency')\n",
    "ax1.grid(True)\n",
    "ax2.hist(rn2, bins = 50)\n",
    "ax2.set_title('randn')\n",
    "ax2.grid('True')\n",
    "ax3.hist(rn3, bins = 30)\n",
    "ax3.set_title('randint')\n",
    "ax3.set_ylabel('frequency')\n",
    "ax3.grid(True)\n",
    "ax4.hist(rn4, bins = 25)\n",
    "ax4.set_title('choice')\n",
    "ax4.grid(True)"
   ]
  },
  {
   "cell_type": "markdown",
   "metadata": {},
   "source": [
    "> 当然我们还可以随机生产服从一系列分布的随机数如：\n",
    "* npr.binomial(n,p,size)的二项分布\n",
    "* npr.nomal(mean, sd, size)正态分布\n",
    "* npr.chisquare(n, size)的卡方分布\n",
    "* npr.possion(lamda, size)的泊松分布\n"
   ]
  },
  {
   "cell_type": "code",
   "execution_count": 39,
   "metadata": {},
   "outputs": [
    {
     "data": {
      "image/png": "[encoded data removed]",
      "text/plain": [
       "<Figure size 720x720 with 4 Axes>"
      ]
     },
     "metadata": {
      "needs_background": "light"
     },
     "output_type": "display_data"
    }
   ],
   "source": [
    "rn5 = npr.binomial(100,0.3,size)\n",
    "rn6 = npr.normal(-3, 2, size)\n",
    "rn7 = npr.chisquare(100, size)\n",
    "rn8 = npr.poisson(3, size)\n",
    "fig, ((ax1,ax2),(ax3,ax4)) = plt.subplots(nrows = 2, ncols = 2, figsize = (10,10))\n",
    "ax1.hist(rn5, bins = 50)\n",
    "ax1.set_title('binomial')\n",
    "ax1.set_ylabel('frequency')\n",
    "ax1.grid(True)\n",
    "ax2.hist(rn6, bins = 50)\n",
    "ax2.set_title('nomal')\n",
    "ax2.grid('True')\n",
    "ax3.hist(rn7, bins = 30)\n",
    "ax3.set_title('chisquare')\n",
    "ax3.set_ylabel('frequency')\n",
    "ax3.grid(True)\n",
    "ax4.hist(rn8, bins = 25)\n",
    "ax4.set_title('possion')\n",
    "ax4.grid(True)"
   ]
  },
  {
   "cell_type": "code",
   "execution_count": null,
   "metadata": {},
   "outputs": [],
   "source": []
  }
 ],
 "metadata": {
  "kernelspec": {
   "display_name": "Python 3",
   "language": "python",
   "name": "python3"
  },
  "language_info": {
   "codemirror_mode": {
    "name": "ipython",
    "version": 3
   },
   "file_extension": ".py",
   "mimetype": "text/x-python",
   "name": "python",
   "nbconvert_exporter": "python",
   "pygments_lexer": "ipython3",
   "version": "3.7.1"
  }
 },
 "nbformat": 4,
 "nbformat_minor": 2
}
